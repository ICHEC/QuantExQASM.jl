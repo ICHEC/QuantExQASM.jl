{
 "cells": [
  {
   "cell_type": "markdown",
   "metadata": {},
   "source": [
    "# Qiskit interoperability for QFT and VQE"
   ]
  },
  {
   "cell_type": "markdown",
   "metadata": {},
   "source": [
    "We begin by loading all required packages. `QuantexQASM` wraps the OpenQASM syntax in a platform agnostic manner, allowing the generation of gate-calls in other QASM syntax formats, or alternatively to gate calls of other simulators, where applicable.\n",
    "\n",
    "Here, we start with a demonstration of using QuantexQASM to run a state-vector simulation on Qiskit of the quantum Fourier transform. Note, that QuantexQASM when imported will begin by attempting to install qiskit into the given Python environment used by Julia's conda."
   ]
  },
  {
   "cell_type": "code",
   "execution_count": null,
   "metadata": {
    "scrolled": true
   },
   "outputs": [],
   "source": [
    "using Pkg;\n",
    "Pkg.activate(\"..\")\n",
    "using QuantexQASM\n",
    "\n",
    "using PyCall\n",
    "using Optim\n",
    "using Plots"
   ]
  },
  {
   "cell_type": "code",
   "execution_count": null,
   "metadata": {
    "scrolled": true
   },
   "outputs": [],
   "source": [
    "qiskit = PyCall.pyimport(\"qiskit\");\n",
    "qiskit_execute = PyCall.pyimport(\"qiskit.execute\");"
   ]
  },
  {
   "cell_type": "code",
   "execution_count": null,
   "metadata": {
    "scrolled": true
   },
   "outputs": [],
   "source": [
    "qubit_label_q = \"qr\"\n",
    "qubit_label_c = \"cr\"\n",
    "q_count = 3\n",
    "c_count = q_count\n",
    "\n",
    "qubit_indices = collect(0:q_count-1)\n",
    "\n",
    "cct_qft = QuantexQASM.QFT.gen_qft(qubit_label_q, qubit_indices)\n",
    "\n",
    "qasm_file = QuantexQASM.GateOps.gen_qasm_header(q_count, c_count, qubit_label_q, qubit_label_c )\n",
    "qasm_file *= cct_qft\n",
    "qasm_file *= QuantexQASM.GateOps.measure_qubits_all(qubit_indices, qubit_indices, qubit_label_q, qubit_label_c)\n",
    "\n",
    "f = open(\"qft_test.qasm\",\"w\") \n",
    "for i in QuantexQASM.Utils.format_string_nl(qasm_file)\n",
    "    write(f, i)\n",
    "end\n",
    "close(f) #"
   ]
  },
  {
   "cell_type": "code",
   "execution_count": null,
   "metadata": {},
   "outputs": [],
   "source": [
    "circ = qiskit.QuantumCircuit.from_qasm_file(\"qft_test.qasm\")\n",
    "circ.draw()"
   ]
  },
  {
   "cell_type": "code",
   "execution_count": null,
   "metadata": {},
   "outputs": [],
   "source": [
    "#Run the circuit\n",
    "simulator = qiskit.Aer.get_backend(\"qasm_simulator\")\n",
    "job = qiskit_execute.execute(circ, simulator, shots=1000)\n",
    "result = job.result()\n",
    "counts = result.get_counts(circ)\n",
    "print(\"\\nTotal count for 00 and 11 are:\",counts)\n",
    "\n",
    "counts"
   ]
  },
  {
   "cell_type": "markdown",
   "metadata": {},
   "source": [
    "Extract counts (v) and labels (k) from the above evaulation."
   ]
  },
  {
   "cell_type": "code",
   "execution_count": null,
   "metadata": {},
   "outputs": [],
   "source": [
    "k = [key for (key, val) in counts];\n",
    "v = [val for (key, val) in counts];"
   ]
  },
  {
   "cell_type": "code",
   "execution_count": null,
   "metadata": {},
   "outputs": [],
   "source": [
    "bar(k,v)"
   ]
  },
  {
   "cell_type": "code",
   "execution_count": null,
   "metadata": {
    "scrolled": true
   },
   "outputs": [],
   "source": [
    "lsrc = circ.draw(\"latex_source\")\n",
    "println(lsrc)"
   ]
  },
  {
   "cell_type": "markdown",
   "metadata": {},
   "source": [
    "# VQE example: $\\sigma_z$"
   ]
  },
  {
   "cell_type": "markdown",
   "metadata": {},
   "source": [
    "Using the qiskit backend, we generate OpenQASM syntax to find the minimum eigenvalue of the Hamiltonian $H = \\sigma_z$, which we already know as -1. We make use of the Optim.jl package internally, and can specify the number of calls required to evaluate the circuit using the given ansatz; in this instance the ansatz is $\\vert \\Psi \\rangle = R_x(\\theta)\\vert 0 \\rangle$, where $R_x = \\exp\\left(\\frac{i\\theta\\sigma_x}{2}\\right)$. "
   ]
  },
  {
   "cell_type": "code",
   "execution_count": null,
   "metadata": {},
   "outputs": [],
   "source": [
    "QuantexQASM.VQE.min_expec_val(1.0)"
   ]
  },
  {
   "cell_type": "markdown",
   "metadata": {},
   "source": [
    "As an example, the ansatz is generated using the internal function `ansatz_gen`, accepting the qubit register, qubit index and theta value. It is possible to override this function to use an alternative formalism."
   ]
  },
  {
   "cell_type": "code",
   "execution_count": null,
   "metadata": {},
   "outputs": [],
   "source": [
    "QuantexQASM.VQE.ansatz_gen(\"qr\",[0], 0.1)"
   ]
  },
  {
   "cell_type": "markdown",
   "metadata": {},
   "source": [
    "Often the minisation algorithm may become stuck in a local minimima, and fail to return the correct expectation value. To aid with overcoming this, we can try a different solver algorithm, or to specify the required number of samples to ensure a more accurate expectation value."
   ]
  },
  {
   "cell_type": "code",
   "execution_count": null,
   "metadata": {},
   "outputs": [],
   "source": [
    "num_samples = 10000;\n",
    "QuantexQASM.VQE.expec_val(Float64(pi)/4, num_samples)"
   ]
  },
  {
   "cell_type": "markdown",
   "metadata": {},
   "source": [
    "To perform the minimisation we specify a function of accepting a signal argument and returning a sigmal value."
   ]
  },
  {
   "cell_type": "code",
   "execution_count": null,
   "metadata": {},
   "outputs": [],
   "source": [
    "g(x) = QuantexQASM.VQE.expec_val(x[1], num_samples)"
   ]
  },
  {
   "cell_type": "markdown",
   "metadata": {},
   "source": [
    "Optimisation is performed as follows, where a good starting value and ansatz can ensure a good approximate eignenvalue."
   ]
  },
  {
   "cell_type": "code",
   "execution_count": null,
   "metadata": {
    "scrolled": true
   },
   "outputs": [],
   "source": [
    "Optim.optimize(g, [pi/2], Optim.BFGS())"
   ]
  },
  {
   "cell_type": "code",
   "execution_count": null,
   "metadata": {},
   "outputs": [],
   "source": []
  }
 ],
 "metadata": {
  "kernelspec": {
   "display_name": "Julia 1.0.3",
   "language": "julia",
   "name": "julia-1.0"
  },
  "language_info": {
   "file_extension": ".jl",
   "mimetype": "application/julia",
   "name": "julia",
   "version": "1.0.5"
  }
 },
 "nbformat": 4,
 "nbformat_minor": 2
}
