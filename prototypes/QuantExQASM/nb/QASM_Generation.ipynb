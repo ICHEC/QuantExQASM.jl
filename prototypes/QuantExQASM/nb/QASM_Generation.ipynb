{
 "cells": [
  {
   "cell_type": "markdown",
   "metadata": {},
   "source": [
    "# Example circuit generation"
   ]
  },
  {
   "cell_type": "code",
   "execution_count": null,
   "metadata": {},
   "outputs": [],
   "source": [
    "using Pkg;\n",
    "Pkg.activate(\"..\")"
   ]
  },
  {
   "cell_type": "code",
   "execution_count": null,
   "metadata": {
    "scrolled": true
   },
   "outputs": [],
   "source": [
    "using QuantexQASM"
   ]
  },
  {
   "cell_type": "markdown",
   "metadata": {},
   "source": [
    "We begin by giving our qubit register a string label, and a set of indices."
   ]
  },
  {
   "cell_type": "code",
   "execution_count": null,
   "metadata": {},
   "outputs": [],
   "source": [
    "qubit_label = \"qreg\";\n",
    "qubit_idx = collect(1:8);"
   ]
  },
  {
   "cell_type": "markdown",
   "metadata": {},
   "source": [
    "Most of the available circuit operations in the IBM OpenQASM spec are implemented and generate gates using the above generalised methods. While qiskit tends to define additional gates based on concrete values for many of the angles, here the $U(\\theta, \\phi, \\lambda)$ gate is the default output with the appropriate rotations.\n"
   ]
  },
  {
   "cell_type": "code",
   "execution_count": null,
   "metadata": {},
   "outputs": [],
   "source": [
    "?QuantexQASM.GateOps.apply_gate_u"
   ]
  },
  {
   "cell_type": "markdown",
   "metadata": {},
   "source": [
    "To perform an arbitrary single qubit gate on a qubit, we first create a struct of the appropriate Bloch angle rotations, as per the IBM U-gate syntax ($\\theta$, $\\phi$, $\\lambda$)."
   ]
  },
  {
   "cell_type": "code",
   "execution_count": null,
   "metadata": {},
   "outputs": [],
   "source": [
    "ba = QuantexQASM.GateOps.bloch_angles(pi/7, 69/42, 0.1)"
   ]
  },
  {
   "cell_type": "markdown",
   "metadata": {},
   "source": [
    "When generating a gate to apply, we can give an index for the qubit to work, or leave it empty to apply the gate to the entire register."
   ]
  },
  {
   "cell_type": "code",
   "execution_count": null,
   "metadata": {},
   "outputs": [],
   "source": [
    "#Apply only on qubit at index 2\n",
    "QuantexQASM.GateOps.apply_gate_u(ba, qubit_label, 2)"
   ]
  },
  {
   "cell_type": "code",
   "execution_count": null,
   "metadata": {},
   "outputs": [],
   "source": [
    "# Apply over entire register\n",
    "QuantexQASM.GateOps.apply_gate_u(ba, qubit_label)"
   ]
  },
  {
   "cell_type": "markdown",
   "metadata": {},
   "source": [
    "As all gates are mapped to the U format, we implement the Pauli-gates following the IBM spec.\n",
    "For example, the Pauli gates $(\\sigma_i)$ are defined as follows:"
   ]
  },
  {
   "cell_type": "code",
   "execution_count": null,
   "metadata": {},
   "outputs": [],
   "source": [
    "println(QuantexQASM.GateOps.apply_gate_x(qubit_label))\n",
    "println(QuantexQASM.GateOps.apply_gate_y(qubit_label))\n",
    "println(QuantexQASM.GateOps.apply_gate_z(qubit_label))"
   ]
  },
  {
   "cell_type": "markdown",
   "metadata": {},
   "source": [
    "These definitions come from the IBM OpenQASM header in qiskit, and are defined as the below gate names in Julia"
   ]
  },
  {
   "cell_type": "code",
   "execution_count": null,
   "metadata": {},
   "outputs": [],
   "source": [
    "println(QuantexQASM.GateOps.IBM_INC_HEADER)"
   ]
  },
  {
   "cell_type": "code",
   "execution_count": null,
   "metadata": {
    "scrolled": false
   },
   "outputs": [],
   "source": [
    "names(QuantexQASM.GateOps)"
   ]
  },
  {
   "cell_type": "markdown",
   "metadata": {},
   "source": [
    "More complex multiqubit gates can be defined int terms of single qubit gates. For example, the CCX (Toffoli) gate is defined as"
   ]
  },
  {
   "cell_type": "code",
   "execution_count": null,
   "metadata": {},
   "outputs": [],
   "source": [
    "println(QuantexQASM.GateOps.apply_gate_ccx(qubit_label, 1,2,3))"
   ]
  },
  {
   "cell_type": "markdown",
   "metadata": {},
   "source": [
    "For the QFT, we require controlled phase rotations, where the phase rotation gate of root-n, $R_n$,is defined by\n",
    "\n",
    "$R_n = \n",
    "\\begin{pmatrix}\n",
    "1 & 0\\\\\n",
    "0 & e^{\\frac{2\\pi i}{2n}}\n",
    "\\end{pmatrix}\n",
    "$\n",
    "and Hadamard gates,\n",
    "$H = \\frac{1}{\\sqrt{2}}\n",
    "\\begin{pmatrix}\n",
    "1 & 1\\\\\n",
    "1 & -1\n",
    "\\end{pmatrix}\n",
    "$.\n",
    "\n",
    "The QFT circuit is implemented as"
   ]
  },
  {
   "cell_type": "code",
   "execution_count": null,
   "metadata": {},
   "outputs": [],
   "source": [
    "@edit QuantexQASM.QFT.gen_qft(qubit_label, qubit_idx);"
   ]
  },
  {
   "cell_type": "code",
   "execution_count": null,
   "metadata": {},
   "outputs": [],
   "source": [
    "cct_qft = QuantexQASM.QFT.gen_qft(qubit_label, qubit_idx);\n",
    "println(QuantexQASM.Utils.format_string_nl(cct_qft))"
   ]
  },
  {
   "cell_type": "code",
   "execution_count": null,
   "metadata": {},
   "outputs": [],
   "source": []
  }
 ],
 "metadata": {
  "kernelspec": {
   "display_name": "Julia 1.0.3",
   "language": "julia",
   "name": "julia-1.0"
  },
  "language_info": {
   "file_extension": ".jl",
   "mimetype": "application/julia",
   "name": "julia",
   "version": "1.0.5"
  }
 },
 "nbformat": 4,
 "nbformat_minor": 2
}
